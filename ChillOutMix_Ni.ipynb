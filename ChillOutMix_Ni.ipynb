{
  "nbformat": 4,
  "nbformat_minor": 0,
  "metadata": {
    "colab": {
      "provenance": []
    },
    "kernelspec": {
      "name": "python3",
      "display_name": "Python 3"
    },
    "language_info": {
      "name": "python"
    },
    "accelerator": "GPU",
    "gpuClass": "standard"
  },
  "cells": [
    {
      "cell_type": "markdown",
      "source": [
        "#**1**. Click Run Button (or CTRL+F9)"
      ],
      "metadata": {
        "id": "6YImztr-0nHl"
      }
    },
    {
      "cell_type": "code",
      "execution_count": null,
      "metadata": {
        "id": "FralfkJAvw01"
      },
      "outputs": [],
      "source": [
        "#Install Downloader\n",
        "!apt-get -y install -qq aria2\n",
        "\n",
        "#Setup API\n",
        "!pip install --upgrade fastapi==0.90.0\n",
        "\n",
        "#Rebuild Engine\n",
        "!pip install -q https://github.com/camenduru/stable-diffusion-webui-colab/releases/download/0.0.16/xformers-0.0.16+814314d.d20230118-cp38-cp38-linux_x86_64.whl\n",
        "!pip install -q --pre triton\n",
        "\n",
        "#Setup Web UI\n",
        "!git clone https://github.com/AUTOMATIC1111/stable-diffusion-webui\n",
        "!git clone https://github.com/yfszzx/stable-diffusion-webui-images-browser /content/stable-diffusion-webui/extensions/stable-diffusion-webui-images-browser\n",
        "!git clone https://github.com/Iyashinouta/sd-colab-commands-browser /content/stable-diffusion-webui/extensions/sd-colab-commands-browser\n",
        "!git clone https://github.com/camenduru/sd-civitai-browser /content/stable-diffusion-webui/extensions/sd-civitai-browser\n",
        "!git clone https://github.com/Mikubill/sd-webui-controlnet /content/stable-diffusion-webui/extensions/sd-webui-controlnet\n",
        "!git clone https://github.com/fkunn1326/openpose-editor /content/stable-diffusion-webui/extensions/openpose-editor\n",
        "\n",
        "!mkdir /content/stable-diffusion-webui/models/Lora\n",
        "\n",
        "#Requirement Models for ControlNet\n",
        "!rm -r /content/stable-diffusion-webui/extensions/sd-webui-controlnet/models\n",
        "!git clone https://huggingface.co/webui/ControlNet-modules-safetensors /content/stable-diffusion-webui/extensions/sd-webui-controlnet/models\n",
        "\n",
        "#Setup Model(s)\n",
        "!aria2c --console-log-level=error -c -x 16 -s 16 -k 1M https://huggingface.co/swl-models/chilloutmix-ni/resolve/main/chilloutmix-Ni.safetensors -d /content/stable-diffusion-webui/models/Stable-diffusion\n",
        "\n",
        "#Bonus Embedding(s)\n",
        "!aria2c --console-log-level=error -c -x 16 -s 16 -k 1M https://civitai.com/api/download/models/10107 -d /content/stable-diffusion-webui/embeddings\n",
        "!aria2c --console-log-level=error -c -x 16 -s 16 -k 1M https://civitai.com/api/download/models/5119 -d /content/stable-diffusion-webui/embeddings\n",
        "\n",
        "#Bonus LoRA(s)\n",
        "!aria2c --console-log-level=error -c -x 16 -s 16 -k 1M https://civitai.com/api/download/models/14014 -d /content/stable-diffusion-webui/models/Lora\n",
        "!aria2c --console-log-level=error -c -x 16 -s 16 -k 1M https://civitai.com/api/download/models/12050 -d /content/stable-diffusion-webui/models/Lora\n",
        "!aria2c --console-log-level=error -c -x 16 -s 16 -k 1M https://civitai.com/api/download/models/9070 -d /content/stable-diffusion-webui/models/Lora"
      ]
    },
    {
      "cell_type": "markdown",
      "source": [
        "#**2**. Launch Web UI\n",
        "\n",
        "if stopped or full RAM/VRAM usage, relaunch (2) only"
      ],
      "metadata": {
        "id": "6pgi6GlqjIRH"
      }
    },
    {
      "cell_type": "code",
      "source": [
        "%cd /content/stable-diffusion-webui\n",
        "!COMMANDLINE_ARGS=\"--share --disable-safe-unpickle --xformers --no-half-vae --enable-insecure-extension-access --disable-console-progressbars --gradio-queue\" REQS_FILE=\"requirements.txt\" python launch.py"
      ],
      "metadata": {
        "id": "h7_EPToMubWg"
      },
      "execution_count": null,
      "outputs": []
    }
  ]
}