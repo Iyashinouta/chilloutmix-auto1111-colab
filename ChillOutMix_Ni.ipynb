{
  "nbformat": 4,
  "nbformat_minor": 0,
  "metadata": {
    "colab": {
      "provenance": [],
      "private_outputs": true,
      "collapsed_sections": [
        "3P3y7QznxKjG"
      ],
      "authorship_tag": "ABX9TyPuPLza/NLeF1h+oaEVgclh",
      "include_colab_link": true
    },
    "kernelspec": {
      "name": "python3",
      "display_name": "Python 3"
    },
    "language_info": {
      "name": "python"
    },
    "gpuClass": "standard",
    "accelerator": "GPU"
  },
  "cells": [
    {
      "cell_type": "markdown",
      "metadata": {
        "id": "view-in-github",
        "colab_type": "text"
      },
      "source": [
        "<a href=\"https://colab.research.google.com/github/Iyashinouta/chilloutmix-auto1111-webui-colab/blob/main/ChillOutMix_Ni.ipynb\" target=\"_parent\"><img src=\"https://colab.research.google.com/assets/colab-badge.svg\" alt=\"Open In Colab\"/></a>"
      ]
    },
    {
      "cell_type": "code",
      "source": [
        "!nvidia-smi"
      ],
      "metadata": {
        "id": "Uy1Klxvrb9jp"
      },
      "execution_count": null,
      "outputs": []
    },
    {
      "cell_type": "markdown",
      "source": [
        "#**(ADDITIONAL) Link to Your Google Drive**"
      ],
      "metadata": {
        "id": "uQ0KIvCYdouz"
      }
    },
    {
      "cell_type": "code",
      "source": [
        "from google.colab import drive\n",
        "drive.mount('/content/drive')"
      ],
      "metadata": {
        "id": "tMFRSIkEcyRi"
      },
      "execution_count": null,
      "outputs": []
    },
    {
      "cell_type": "markdown",
      "source": [
        "#**1**. Click Run Button (or CTRL+ENTER)"
      ],
      "metadata": {
        "id": "6YImztr-0nHl"
      }
    },
    {
      "cell_type": "code",
      "execution_count": null,
      "metadata": {
        "id": "FralfkJAvw01",
        "collapsed": true
      },
      "outputs": [],
      "source": [
        "#Install Downloader\n",
        "!apt-get -y install -qq aria2\n",
        "\n",
        "#Setup API\n",
        "!pip install --upgrade fastapi==0.90.0\n",
        "\n",
        "#Rebuild xformers, triton\n",
        "!pip -q install -U xformers\n",
        "!pip install -q --pre triton\n",
        "\n",
        "#Setup Web UI\n",
        "!git clone https://github.com/AUTOMATIC1111/stable-diffusion-webui\n",
        "!git clone https://github.com/yfszzx/stable-diffusion-webui-images-browser /content/stable-diffusion-webui/extensions/stable-diffusion-webui-images-browser\n",
        "!git clone https://github.com/Iyashinouta/sd-colab-commands-browser /content/stable-diffusion-webui/extensions/sd-colab-commands-browser\n",
        "!git clone https://github.com/Iyashinouta/sd-model-downloader /content/stable-diffusion-webui/extensions/sd-model-downloader\n",
        "!git clone https://github.com/camenduru/sd-civitai-browser /content/stable-diffusion-webui/extensions/sd-civitai-browser\n",
        "!git clone https://github.com/Mikubill/sd-webui-controlnet /content/stable-diffusion-webui/extensions/sd-webui-controlnet\n",
        "!git clone https://github.com/fkunn1326/openpose-editor /content/stable-diffusion-webui/extensions/openpose-editor\n",
        "\n",
        "!mkdir /content/stable-diffusion-webui/models/Lora\n",
        "!mkdir /content/stable-diffusion-webui/models/hypernetworks\n",
        "!mkdir /content/stable-diffusion-webui/extensions/stable-diffusion-webui-aesthetic-gradients\n",
        "!mkdir /content/stable-diffusion-webui/extensions/stable-diffusion-webui-aesthetic-gradients/aesthetic_embeddings\n",
        "\n",
        "#Requirement Models for ControlNet\n",
        "!rm -r /content/stable-diffusion-webui/extensions/sd-webui-controlnet/models\n",
        "!git clone https://huggingface.co/webui/ControlNet-modules-safetensors /content/stable-diffusion-webui/extensions/sd-webui-controlnet/models\n",
        "\n",
        "#Setup Model(s)\n",
        "!aria2c --console-log-level=error -c -x 16 -s 16 -k 1M https://civitai.com/api/download/models/11732 -d /content/stable-diffusion-webui/models/Stable-diffusion\n",
        "\n",
        "#Bonus Embedding(s)\n",
        "!aria2c --console-log-level=error -c -x 16 -s 16 -k 1M https://civitai.com/api/download/models/10107 -d /content/stable-diffusion-webui/embeddings\n",
        "!aria2c --console-log-level=error -c -x 16 -s 16 -k 1M https://civitai.com/api/download/models/5119 -d /content/stable-diffusion-webui/embeddings\n",
        "!aria2c --console-log-level=error -c -x 16 -s 16 -k 1M https://civitai.com/api/download/models/5637 -d /content/stable-diffusion-webui/embeddings\n",
        "\n",
        "#Bonus Lora(s)\n",
        "!aria2c --console-log-level=error -c -x 16 -s 16 -k 1M https://huggingface.co/nolanaatama/kdllora/resolve/main/kdllorav15.safetensors -d /content/stable-diffusion-webui/models/Lora -o koreanDollLikeness_V15.safetensors\n",
        "!aria2c --console-log-level=error -c -x 16 -s 16 -k 1M https://huggingface.co/nolanaatama/tdllora/resolve/main/tdllora.safetensors -d /content/stable-diffusion-webui/models/Lora -o taiwanDollLikeness_V10.safetensors\n",
        "!aria2c --console-log-level=error -c -x 16 -s 16 -k 1M https://huggingface.co/nolanaatama/jdllora/resolve/main/jdllora.safetensors -d /content/stable-diffusion-webui/models/Lora -o japaneseDollLikeness_V10.safetensors"
      ]
    },
    {
      "cell_type": "markdown",
      "source": [
        "# #**2**. Launch Web UI\n",
        "\n",
        "if stopped or full RAM/VRAM usage, relaunch (2) only"
      ],
      "metadata": {
        "id": "6pgi6GlqjIRH"
      }
    },
    {
      "cell_type": "code",
      "source": [
        "%cd /content/stable-diffusion-webui/\n",
        "!COMMANDLINE_ARGS=\"--share --disable-safe-unpickle --xformers --opt-channelslast --no-half-vae --enable-insecure-extension-access --disable-console-progressbars --deepdanbooru --gradio-queue\" REQS_FILE=\"requirements.txt\" python launch.py"
      ],
      "metadata": {
        "id": "h7_EPToMubWg"
      },
      "execution_count": null,
      "outputs": []
    },
    {
      "cell_type": "markdown",
      "source": [
        "#Launch Web UI with CPU only, Just Testing, Dont Use it"
      ],
      "metadata": {
        "id": "3P3y7QznxKjG"
      }
    },
    {
      "cell_type": "code",
      "source": [
        "%cd /content/stable-diffusion-webui\n",
        "!COMMANDLINE_ARGS=\"--share --skip-torch-cuda-test --enable-insecure-extension-access --disable-console-progressbars --deepdanbooru --gradio-queue\" REQS_FILE=\"requirements.txt\" python launch.py"
      ],
      "metadata": {
        "id": "PGR0z_0tPkHF"
      },
      "execution_count": null,
      "outputs": []
    }
  ]
}